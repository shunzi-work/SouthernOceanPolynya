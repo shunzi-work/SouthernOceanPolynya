{
 "cells": [
  {
   "cell_type": "code",
   "execution_count": 1,
   "id": "058935bc-6b20-4a8d-b88e-a560a7dbcff7",
   "metadata": {},
   "outputs": [],
   "source": [
    "# filter some warning messages\n",
    "import warnings\n",
    "warnings.filterwarnings(\"ignore\")"
   ]
  },
  {
   "cell_type": "code",
   "execution_count": 2,
   "id": "81826ca1-c8e8-495a-bfdc-cb58cde6e44d",
   "metadata": {},
   "outputs": [],
   "source": [
    "import numpy as np\n",
    "import xarray as xr\n",
    "\n",
    "import matplotlib.pyplot as plt\n",
    "import matplotlib.path as mpath\n",
    "import matplotlib.colors as mcolors\n",
    "\n",
    "import cartopy.crs as ccrs\n",
    "import cartopy.feature as cfeature\n",
    "\n",
    "import cmocean\n",
    "\n",
    "from myfunctions import openpickle"
   ]
  },
  {
   "cell_type": "code",
   "execution_count": null,
   "id": "cc37022e-fa20-4dd9-b73e-2c623590af4b",
   "metadata": {},
   "outputs": [],
   "source": [
    "name = 'GFDL-CM4'\n",
    "data_siconc = openpickle(name, '../../SO_data/data_siconc_w_area/')\n",
    "data_sithick = openpickle(name, '../../SO_data/data_thick/')\n",
    "data_mld = openpickle(name, '../../SO_data/data_mld/')\n",
    "data_polynya = openpickle(name, '../../SO_data/data_polynya/')"
   ]
  }
 ],
 "metadata": {
  "kernelspec": {
   "display_name": "Python 3 (ipykernel)",
   "language": "python",
   "name": "python3"
  },
  "language_info": {
   "codemirror_mode": {
    "name": "ipython",
    "version": 3
   },
   "file_extension": ".py",
   "mimetype": "text/x-python",
   "name": "python",
   "nbconvert_exporter": "python",
   "pygments_lexer": "ipython3",
   "version": "3.10.9"
  }
 },
 "nbformat": 4,
 "nbformat_minor": 5
}
